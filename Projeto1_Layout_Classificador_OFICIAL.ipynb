{
 "cells": [
  {
   "cell_type": "markdown",
   "metadata": {},
   "source": [
    "# Projeto 1 - Ciência dos Dados"
   ]
  },
  {
   "cell_type": "markdown",
   "metadata": {},
   "source": [
    "Nome: _____\n",
    "\n",
    "Nome: _____"
   ]
  },
  {
   "cell_type": "markdown",
   "metadata": {},
   "source": [
    "Atenção: Serão permitidos grupos de três pessoas, mas com uma rubrica mais exigente. Grupos deste tamanho precisarão fazer um questionário de avaliação de trabalho em equipe"
   ]
  },
  {
   "cell_type": "markdown",
   "metadata": {},
   "source": [
    "___\n",
    "Carregando algumas bibliotecas:"
   ]
  },
  {
   "cell_type": "code",
   "execution_count": 19,
   "metadata": {},
   "outputs": [],
   "source": [
    "%matplotlib inline\n",
    "import pandas as pd\n",
    "import matplotlib.pyplot as plt\n",
    "import numpy as np\n",
    "import os\n",
    "import re"
   ]
  },
  {
   "cell_type": "code",
   "execution_count": 20,
   "metadata": {
    "scrolled": false
   },
   "outputs": [
    {
     "name": "stdout",
     "output_type": "stream",
     "text": [
      "Esperamos trabalhar no diretório\n",
      "C:\\Users\\mateu\\OneDrive\\Documents\\Insper\\Segundo Semestre\\Ciência dos Dados\\Projeto 1\\Projeto1-Cdados\n"
     ]
    }
   ],
   "source": [
    "print('Esperamos trabalhar no diretório')\n",
    "print(os.getcwd())"
   ]
  },
  {
   "cell_type": "markdown",
   "metadata": {},
   "source": [
    "Carregando a base de dados com os tweets classificados como relevantes e não relevantes:"
   ]
  },
  {
   "cell_type": "code",
   "execution_count": 21,
   "metadata": {},
   "outputs": [],
   "source": [
    "filename = 'Excel-Samsung.xlsx'"
   ]
  },
  {
   "cell_type": "code",
   "execution_count": 22,
   "metadata": {},
   "outputs": [
    {
     "data": {
      "text/html": [
       "<div>\n",
       "<style scoped>\n",
       "    .dataframe tbody tr th:only-of-type {\n",
       "        vertical-align: middle;\n",
       "    }\n",
       "\n",
       "    .dataframe tbody tr th {\n",
       "        vertical-align: top;\n",
       "    }\n",
       "\n",
       "    .dataframe thead th {\n",
       "        text-align: right;\n",
       "    }\n",
       "</style>\n",
       "<table border=\"1\" class=\"dataframe\">\n",
       "  <thead>\n",
       "    <tr style=\"text-align: right;\">\n",
       "      <th></th>\n",
       "      <th>Treinamento</th>\n",
       "      <th>Unnamed: 1</th>\n",
       "    </tr>\n",
       "  </thead>\n",
       "  <tbody>\n",
       "    <tr>\n",
       "      <th>0</th>\n",
       "      <td>@devilslawyerr_ toda vez q eu entro no tiktok ...</td>\n",
       "      <td>1</td>\n",
       "    </tr>\n",
       "    <tr>\n",
       "      <th>1</th>\n",
       "      <td>@amarcosta01 @qgjulietteof @seara_brasil tb am...</td>\n",
       "      <td>0</td>\n",
       "    </tr>\n",
       "    <tr>\n",
       "      <th>2</th>\n",
       "      <td>@prodzefyre @luagluiz @brrrb3rry um samsung e ...</td>\n",
       "      <td>3</td>\n",
       "    </tr>\n",
       "    <tr>\n",
       "      <th>3</th>\n",
       "      <td>é humanamente impossível comprar uma máquina l...</td>\n",
       "      <td>2</td>\n",
       "    </tr>\n",
       "    <tr>\n",
       "      <th>4</th>\n",
       "      <td>[magazine luiza] (cliente ouro) carregador por...</td>\n",
       "      <td>1</td>\n",
       "    </tr>\n",
       "  </tbody>\n",
       "</table>\n",
       "</div>"
      ],
      "text/plain": [
       "                                         Treinamento  Unnamed: 1\n",
       "0  @devilslawyerr_ toda vez q eu entro no tiktok ...           1\n",
       "1  @amarcosta01 @qgjulietteof @seara_brasil tb am...           0\n",
       "2  @prodzefyre @luagluiz @brrrb3rry um samsung e ...           3\n",
       "3  é humanamente impossível comprar uma máquina l...           2\n",
       "4  [magazine luiza] (cliente ouro) carregador por...           1"
      ]
     },
     "execution_count": 22,
     "metadata": {},
     "output_type": "execute_result"
    }
   ],
   "source": [
    "train = pd.read_excel(filename)\n",
    "train.head(5)"
   ]
  },
  {
   "cell_type": "code",
   "execution_count": 23,
   "metadata": {},
   "outputs": [
    {
     "data": {
      "text/html": [
       "<div>\n",
       "<style scoped>\n",
       "    .dataframe tbody tr th:only-of-type {\n",
       "        vertical-align: middle;\n",
       "    }\n",
       "\n",
       "    .dataframe tbody tr th {\n",
       "        vertical-align: top;\n",
       "    }\n",
       "\n",
       "    .dataframe thead th {\n",
       "        text-align: right;\n",
       "    }\n",
       "</style>\n",
       "<table border=\"1\" class=\"dataframe\">\n",
       "  <thead>\n",
       "    <tr style=\"text-align: right;\">\n",
       "      <th></th>\n",
       "      <th>Teste</th>\n",
       "      <th>Unnamed: 1</th>\n",
       "    </tr>\n",
       "  </thead>\n",
       "  <tbody>\n",
       "    <tr>\n",
       "      <th>0</th>\n",
       "      <td>@ai_cansado esmola da samsung, ainda não tô pr...</td>\n",
       "      <td>0.0</td>\n",
       "    </tr>\n",
       "    <tr>\n",
       "      <th>1</th>\n",
       "      <td>vsf essa propaganda da samsung com a juliettr\\...</td>\n",
       "      <td>0.0</td>\n",
       "    </tr>\n",
       "    <tr>\n",
       "      <th>2</th>\n",
       "      <td>o bts ainda fez uma propaganda pra samsung no ...</td>\n",
       "      <td>0.0</td>\n",
       "    </tr>\n",
       "    <tr>\n",
       "      <th>3</th>\n",
       "      <td>aaaaaaaaaaaaa vem aí????? não brinca com meu j...</td>\n",
       "      <td>0.0</td>\n",
       "    </tr>\n",
       "    <tr>\n",
       "      <th>4</th>\n",
       "      <td>eu defendia a samsung, mas agr a juliette é ga...</td>\n",
       "      <td>0.0</td>\n",
       "    </tr>\n",
       "  </tbody>\n",
       "</table>\n",
       "</div>"
      ],
      "text/plain": [
       "                                               Teste  Unnamed: 1\n",
       "0  @ai_cansado esmola da samsung, ainda não tô pr...         0.0\n",
       "1  vsf essa propaganda da samsung com a juliettr\\...         0.0\n",
       "2  o bts ainda fez uma propaganda pra samsung no ...         0.0\n",
       "3  aaaaaaaaaaaaa vem aí????? não brinca com meu j...         0.0\n",
       "4  eu defendia a samsung, mas agr a juliette é ga...         0.0"
      ]
     },
     "execution_count": 23,
     "metadata": {},
     "output_type": "execute_result"
    }
   ],
   "source": [
    "test = pd.read_excel(filename, sheet_name = 'Teste')\n",
    "test.head(5)"
   ]
  },
  {
   "cell_type": "markdown",
   "metadata": {},
   "source": [
    "___\n",
    "## Classificador automático de sentimento\n"
   ]
  },
  {
   "cell_type": "markdown",
   "metadata": {},
   "source": [
    "Faça aqui uma descrição do seu produto e o que considerou como relevante ou não relevante na classificação dos tweets.\n",
    "\n",
    "\n",
    "0 - Irrelevante - Os tweets considerados irrelevantes são aqueles que não fazem menção aos produtos da Samsung\n",
    "\n",
    "1 - Neutro - Os tweets considerados neutros são aqueles que fazem uma menção a algum produto da Samsung, porém não é algo significativo. Ex: aaa samsung eu to travada que nem o celular de vcs\n",
    "\n",
    "2 - Relevante - Os tweets considerados relevantes são aqueles que fazem uma menção construtiva a algum produto da Samsung ou alguma funcionalidade que eles apresentam\n",
    "\n",
    "3 - Muito Relevante - Os tweets considerados muito relevantes são aqueles que fazem uma menção construtiva de 2 ou + produtos da Samsumg ou 2 ou + funcionalidades que eles apresentam. Isso inclui venda de produtos com descrições detalhadas\n"
   ]
  },
  {
   "cell_type": "markdown",
   "metadata": {},
   "source": [
    "___\n",
    "### Montando um Classificador Naive-Bayes\n",
    "\n",
    "Considerando apenas as mensagens da planilha Treinamento, ensine  seu classificador."
   ]
  },
  {
   "cell_type": "code",
   "execution_count": 54,
   "metadata": {},
   "outputs": [
    {
     "data": {
      "text/html": [
       "<div>\n",
       "<style scoped>\n",
       "    .dataframe tbody tr th:only-of-type {\n",
       "        vertical-align: middle;\n",
       "    }\n",
       "\n",
       "    .dataframe tbody tr th {\n",
       "        vertical-align: top;\n",
       "    }\n",
       "\n",
       "    .dataframe thead th {\n",
       "        text-align: right;\n",
       "    }\n",
       "</style>\n",
       "<table border=\"1\" class=\"dataframe\">\n",
       "  <thead>\n",
       "    <tr style=\"text-align: right;\">\n",
       "      <th></th>\n",
       "      <th>Treinamento</th>\n",
       "      <th>Relevancia</th>\n",
       "    </tr>\n",
       "  </thead>\n",
       "  <tbody>\n",
       "    <tr>\n",
       "      <th>0</th>\n",
       "      <td>toda vez q eu entro no tiktok ta essa p no an...</td>\n",
       "      <td>1</td>\n",
       "    </tr>\n",
       "    <tr>\n",
       "      <th>1</th>\n",
       "      <td>tb amo miga 😍🎵💜📱mpn  juliettefashion juliet...</td>\n",
       "      <td>0</td>\n",
       "    </tr>\n",
       "    <tr>\n",
       "      <th>2</th>\n",
       "      <td>um samsung e um xiaomi de 500 conto não val...</td>\n",
       "      <td>3</td>\n",
       "    </tr>\n",
       "    <tr>\n",
       "      <th>3</th>\n",
       "      <td>é humanamente impossível comprar uma máquina l...</td>\n",
       "      <td>2</td>\n",
       "    </tr>\n",
       "    <tr>\n",
       "      <th>4</th>\n",
       "      <td>magazine luiza cliente ouro carregador portáti...</td>\n",
       "      <td>1</td>\n",
       "    </tr>\n",
       "    <tr>\n",
       "      <th>...</th>\n",
       "      <td>...</td>\n",
       "      <td>...</td>\n",
       "    </tr>\n",
       "    <tr>\n",
       "      <th>695</th>\n",
       "      <td>nss a juli finalmente anunciando a parceria de...</td>\n",
       "      <td>0</td>\n",
       "    </tr>\n",
       "    <tr>\n",
       "      <th>696</th>\n",
       "      <td>samsung pq demorou tanto espero essa parceri...</td>\n",
       "      <td>0</td>\n",
       "    </tr>\n",
       "    <tr>\n",
       "      <th>697</th>\n",
       "      <td>amg se for pouco demais tu leva numa assistê...</td>\n",
       "      <td>1</td>\n",
       "    </tr>\n",
       "    <tr>\n",
       "      <th>698</th>\n",
       "      <td>não brinca com isso samsung</td>\n",
       "      <td>0</td>\n",
       "    </tr>\n",
       "    <tr>\n",
       "      <th>699</th>\n",
       "      <td>cansada de entrar no tiktok e ter a cara da ju...</td>\n",
       "      <td>0</td>\n",
       "    </tr>\n",
       "  </tbody>\n",
       "</table>\n",
       "<p>700 rows × 2 columns</p>\n",
       "</div>"
      ],
      "text/plain": [
       "                                           Treinamento  Relevancia\n",
       "0     toda vez q eu entro no tiktok ta essa p no an...           1\n",
       "1       tb amo miga 😍🎵💜📱mpn  juliettefashion juliet...           0\n",
       "2       um samsung e um xiaomi de 500 conto não val...           3\n",
       "3    é humanamente impossível comprar uma máquina l...           2\n",
       "4    magazine luiza cliente ouro carregador portáti...           1\n",
       "..                                                 ...         ...\n",
       "695  nss a juli finalmente anunciando a parceria de...           0\n",
       "696    samsung pq demorou tanto espero essa parceri...           0\n",
       "697    amg se for pouco demais tu leva numa assistê...           1\n",
       "698                        não brinca com isso samsung           0\n",
       "699  cansada de entrar no tiktok e ter a cara da ju...           0\n",
       "\n",
       "[700 rows x 2 columns]"
      ]
     },
     "execution_count": 54,
     "metadata": {},
     "output_type": "execute_result"
    }
   ],
   "source": [
    "\n",
    "   # for tweet in train:\n",
    "   # tweet2 = \"\"\n",
    "   # for caractere in tweet:\n",
    "  #  if caractere in limpeza:\n",
    "   #     caractere = caractere.replace(caractere,\"\")\n",
    "  #  tweet2 += caractere\"\n",
    "\n",
    "\n",
    "#def limpeza(tweet):\n",
    "   # caracteres_especiais = \"\\n,()[]{}#'\"\";:\"\n",
    "    #pattern = re.compile(caracteres_especiais)\n",
    "   # tweet = tweet.replace(pattern,\"\")\n",
    "   # return tweet\n",
    "\n",
    "#Removendo pontuações\n",
    "def limpeza_caracteres_iniciais(tweet):\n",
    "    caracteres_especiais = '[!-.:?;_,<>/\\][)(#%$|\\n]' \n",
    "    pattern = re.compile(caracteres_especiais)\n",
    "    substituições = re.sub(pattern,'', tweet)\n",
    "    return substituições\n",
    "\n",
    "#Removendo menções\n",
    "def limpeza_menções(tweet):\n",
    "    mencoes = \"@[A-Za-z0-9]+\"\n",
    "    pattern = re.compile(mencoes)\n",
    "    substituições = re.sub(pattern,'',tweet)\n",
    "    return substituições\n",
    "\n",
    "train.Treinamento = train.Treinamento.apply(limpeza_caracteres_iniciais)\n",
    "train.Treinamento = train.Treinamento.apply(limpeza_menções)\n",
    "\n",
    "train"
   ]
  },
  {
   "cell_type": "code",
   "execution_count": 56,
   "metadata": {},
   "outputs": [
    {
     "data": {
      "text/html": [
       "<div>\n",
       "<style scoped>\n",
       "    .dataframe tbody tr th:only-of-type {\n",
       "        vertical-align: middle;\n",
       "    }\n",
       "\n",
       "    .dataframe tbody tr th {\n",
       "        vertical-align: top;\n",
       "    }\n",
       "\n",
       "    .dataframe thead th {\n",
       "        text-align: right;\n",
       "    }\n",
       "</style>\n",
       "<table border=\"1\" class=\"dataframe\">\n",
       "  <thead>\n",
       "    <tr style=\"text-align: right;\">\n",
       "      <th></th>\n",
       "      <th>Treinamento</th>\n",
       "      <th>Relevancia</th>\n",
       "    </tr>\n",
       "  </thead>\n",
       "  <tbody>\n",
       "    <tr>\n",
       "      <th>0</th>\n",
       "      <td>toda vez q eu entro no tiktok ta essa p no an...</td>\n",
       "      <td>1</td>\n",
       "    </tr>\n",
       "    <tr>\n",
       "      <th>1</th>\n",
       "      <td>tb amo miga 😍🎵💜📱mpn  juliettefashion juliet...</td>\n",
       "      <td>0</td>\n",
       "    </tr>\n",
       "    <tr>\n",
       "      <th>2</th>\n",
       "      <td>um samsung e um xiaomi de 500 conto não val...</td>\n",
       "      <td>3</td>\n",
       "    </tr>\n",
       "    <tr>\n",
       "      <th>3</th>\n",
       "      <td>é humanamente impossível comprar uma máquina l...</td>\n",
       "      <td>2</td>\n",
       "    </tr>\n",
       "    <tr>\n",
       "      <th>4</th>\n",
       "      <td>magazine luiza cliente ouro carregador portáti...</td>\n",
       "      <td>1</td>\n",
       "    </tr>\n",
       "    <tr>\n",
       "      <th>...</th>\n",
       "      <td>...</td>\n",
       "      <td>...</td>\n",
       "    </tr>\n",
       "    <tr>\n",
       "      <th>695</th>\n",
       "      <td>nss a juli finalmente anunciando a parceria de...</td>\n",
       "      <td>0</td>\n",
       "    </tr>\n",
       "    <tr>\n",
       "      <th>696</th>\n",
       "      <td>samsung pq demorou tanto espero essa parceri...</td>\n",
       "      <td>0</td>\n",
       "    </tr>\n",
       "    <tr>\n",
       "      <th>697</th>\n",
       "      <td>amg se for pouco demais tu leva numa assistê...</td>\n",
       "      <td>1</td>\n",
       "    </tr>\n",
       "    <tr>\n",
       "      <th>698</th>\n",
       "      <td>não brinca com isso samsung</td>\n",
       "      <td>0</td>\n",
       "    </tr>\n",
       "    <tr>\n",
       "      <th>699</th>\n",
       "      <td>cansada de entrar no tiktok e ter a cara da ju...</td>\n",
       "      <td>0</td>\n",
       "    </tr>\n",
       "  </tbody>\n",
       "</table>\n",
       "<p>700 rows × 2 columns</p>\n",
       "</div>"
      ],
      "text/plain": [
       "                                           Treinamento  Relevancia\n",
       "0     toda vez q eu entro no tiktok ta essa p no an...           1\n",
       "1       tb amo miga 😍🎵💜📱mpn  juliettefashion juliet...           0\n",
       "2       um samsung e um xiaomi de 500 conto não val...           3\n",
       "3    é humanamente impossível comprar uma máquina l...           2\n",
       "4    magazine luiza cliente ouro carregador portáti...           1\n",
       "..                                                 ...         ...\n",
       "695  nss a juli finalmente anunciando a parceria de...           0\n",
       "696    samsung pq demorou tanto espero essa parceri...           0\n",
       "697    amg se for pouco demais tu leva numa assistê...           1\n",
       "698                        não brinca com isso samsung           0\n",
       "699  cansada de entrar no tiktok e ter a cara da ju...           0\n",
       "\n",
       "[700 rows x 2 columns]"
      ]
     },
     "execution_count": 56,
     "metadata": {},
     "output_type": "execute_result"
    }
   ],
   "source": [
    "train = train.rename(columns={\"Unnamed: 1\": \"Relevancia\"})\n",
    "train"
   ]
  },
  {
   "cell_type": "code",
   "execution_count": 61,
   "metadata": {},
   "outputs": [],
   "source": [
    "irrelevante = train.loc[train.Relevancia == 0, :]\n",
    "neutro = train.loc[train.Relevancia == 1, :]\n",
    "relevante = train.loc[train.Relevancia == 2, :]\n",
    "muito_relevante = train.loc[train.Relevancia == 3, :]"
   ]
  },
  {
   "cell_type": "code",
   "execution_count": 62,
   "metadata": {},
   "outputs": [
    {
     "data": {
      "text/html": [
       "<div>\n",
       "<style scoped>\n",
       "    .dataframe tbody tr th:only-of-type {\n",
       "        vertical-align: middle;\n",
       "    }\n",
       "\n",
       "    .dataframe tbody tr th {\n",
       "        vertical-align: top;\n",
       "    }\n",
       "\n",
       "    .dataframe thead th {\n",
       "        text-align: right;\n",
       "    }\n",
       "</style>\n",
       "<table border=\"1\" class=\"dataframe\">\n",
       "  <thead>\n",
       "    <tr style=\"text-align: right;\">\n",
       "      <th></th>\n",
       "      <th>Treinamento</th>\n",
       "      <th>Relevancia</th>\n",
       "    </tr>\n",
       "  </thead>\n",
       "  <tbody>\n",
       "    <tr>\n",
       "      <th>1</th>\n",
       "      <td>tb amo miga 😍🎵💜📱mpn  juliettefashion juliet...</td>\n",
       "      <td>0</td>\n",
       "    </tr>\n",
       "    <tr>\n",
       "      <th>8</th>\n",
       "      <td>adoraria que o galiotte pegasse os 300 milh...</td>\n",
       "      <td>0</td>\n",
       "    </tr>\n",
       "    <tr>\n",
       "      <th>12</th>\n",
       "      <td>✅curte ✅comenta ✅compatilhar✅salve a foto da ...</td>\n",
       "      <td>0</td>\n",
       "    </tr>\n",
       "    <tr>\n",
       "      <th>14</th>\n",
       "      <td>hoje eu acordei daquele jeitinho do coringa so...</td>\n",
       "      <td>0</td>\n",
       "    </tr>\n",
       "    <tr>\n",
       "      <th>16</th>\n",
       "      <td>httpstcooigc3turnh hj foi tão bom space da ju ...</td>\n",
       "      <td>0</td>\n",
       "    </tr>\n",
       "    <tr>\n",
       "      <th>...</th>\n",
       "      <td>...</td>\n",
       "      <td>...</td>\n",
       "    </tr>\n",
       "    <tr>\n",
       "      <th>693</th>\n",
       "      <td>oi nesse link eu trago procedimentos para a o...</td>\n",
       "      <td>0</td>\n",
       "    </tr>\n",
       "    <tr>\n",
       "      <th>695</th>\n",
       "      <td>nss a juli finalmente anunciando a parceria de...</td>\n",
       "      <td>0</td>\n",
       "    </tr>\n",
       "    <tr>\n",
       "      <th>696</th>\n",
       "      <td>samsung pq demorou tanto espero essa parceri...</td>\n",
       "      <td>0</td>\n",
       "    </tr>\n",
       "    <tr>\n",
       "      <th>698</th>\n",
       "      <td>não brinca com isso samsung</td>\n",
       "      <td>0</td>\n",
       "    </tr>\n",
       "    <tr>\n",
       "      <th>699</th>\n",
       "      <td>cansada de entrar no tiktok e ter a cara da ju...</td>\n",
       "      <td>0</td>\n",
       "    </tr>\n",
       "  </tbody>\n",
       "</table>\n",
       "<p>264 rows × 2 columns</p>\n",
       "</div>"
      ],
      "text/plain": [
       "                                           Treinamento  Relevancia\n",
       "1       tb amo miga 😍🎵💜📱mpn  juliettefashion juliet...           0\n",
       "8       adoraria que o galiotte pegasse os 300 milh...           0\n",
       "12    ✅curte ✅comenta ✅compatilhar✅salve a foto da ...           0\n",
       "14   hoje eu acordei daquele jeitinho do coringa so...           0\n",
       "16   httpstcooigc3turnh hj foi tão bom space da ju ...           0\n",
       "..                                                 ...         ...\n",
       "693   oi nesse link eu trago procedimentos para a o...           0\n",
       "695  nss a juli finalmente anunciando a parceria de...           0\n",
       "696    samsung pq demorou tanto espero essa parceri...           0\n",
       "698                        não brinca com isso samsung           0\n",
       "699  cansada de entrar no tiktok e ter a cara da ju...           0\n",
       "\n",
       "[264 rows x 2 columns]"
      ]
     },
     "execution_count": 62,
     "metadata": {},
     "output_type": "execute_result"
    }
   ],
   "source": [
    "irrelevante"
   ]
  },
  {
   "cell_type": "code",
   "execution_count": 63,
   "metadata": {},
   "outputs": [
    {
     "data": {
      "text/html": [
       "<div>\n",
       "<style scoped>\n",
       "    .dataframe tbody tr th:only-of-type {\n",
       "        vertical-align: middle;\n",
       "    }\n",
       "\n",
       "    .dataframe tbody tr th {\n",
       "        vertical-align: top;\n",
       "    }\n",
       "\n",
       "    .dataframe thead th {\n",
       "        text-align: right;\n",
       "    }\n",
       "</style>\n",
       "<table border=\"1\" class=\"dataframe\">\n",
       "  <thead>\n",
       "    <tr style=\"text-align: right;\">\n",
       "      <th></th>\n",
       "      <th>Treinamento</th>\n",
       "      <th>Relevancia</th>\n",
       "    </tr>\n",
       "  </thead>\n",
       "  <tbody>\n",
       "    <tr>\n",
       "      <th>0</th>\n",
       "      <td>toda vez q eu entro no tiktok ta essa p no an...</td>\n",
       "      <td>1</td>\n",
       "    </tr>\n",
       "    <tr>\n",
       "      <th>4</th>\n",
       "      <td>magazine luiza cliente ouro carregador portáti...</td>\n",
       "      <td>1</td>\n",
       "    </tr>\n",
       "    <tr>\n",
       "      <th>5</th>\n",
       "      <td>no congresso mundial de conservação debates so...</td>\n",
       "      <td>1</td>\n",
       "    </tr>\n",
       "    <tr>\n",
       "      <th>7</th>\n",
       "      <td>as embaixadas da juliette1 globoplay 2 loccita...</td>\n",
       "      <td>1</td>\n",
       "    </tr>\n",
       "    <tr>\n",
       "      <th>10</th>\n",
       "      <td>eu acho que ela vai anunciar daqui uns dias nã...</td>\n",
       "      <td>1</td>\n",
       "    </tr>\n",
       "    <tr>\n",
       "      <th>...</th>\n",
       "      <td>...</td>\n",
       "      <td>...</td>\n",
       "    </tr>\n",
       "    <tr>\n",
       "      <th>681</th>\n",
       "      <td>é bem provável q a samsung tá bem fodase pra ...</td>\n",
       "      <td>1</td>\n",
       "    </tr>\n",
       "    <tr>\n",
       "      <th>684</th>\n",
       "      <td>samsung – linha galaxy z lança desafio tik tok...</td>\n",
       "      <td>1</td>\n",
       "    </tr>\n",
       "    <tr>\n",
       "      <th>687</th>\n",
       "      <td>burrice sua vc não conhece a história do car...</td>\n",
       "      <td>1</td>\n",
       "    </tr>\n",
       "    <tr>\n",
       "      <th>690</th>\n",
       "      <td>só eu achei esquisito a nova atualização da sa...</td>\n",
       "      <td>1</td>\n",
       "    </tr>\n",
       "    <tr>\n",
       "      <th>697</th>\n",
       "      <td>amg se for pouco demais tu leva numa assistê...</td>\n",
       "      <td>1</td>\n",
       "    </tr>\n",
       "  </tbody>\n",
       "</table>\n",
       "<p>184 rows × 2 columns</p>\n",
       "</div>"
      ],
      "text/plain": [
       "                                           Treinamento  Relevancia\n",
       "0     toda vez q eu entro no tiktok ta essa p no an...           1\n",
       "4    magazine luiza cliente ouro carregador portáti...           1\n",
       "5    no congresso mundial de conservação debates so...           1\n",
       "7    as embaixadas da juliette1 globoplay 2 loccita...           1\n",
       "10   eu acho que ela vai anunciar daqui uns dias nã...           1\n",
       "..                                                 ...         ...\n",
       "681   é bem provável q a samsung tá bem fodase pra ...           1\n",
       "684  samsung – linha galaxy z lança desafio tik tok...           1\n",
       "687    burrice sua vc não conhece a história do car...           1\n",
       "690  só eu achei esquisito a nova atualização da sa...           1\n",
       "697    amg se for pouco demais tu leva numa assistê...           1\n",
       "\n",
       "[184 rows x 2 columns]"
      ]
     },
     "execution_count": 63,
     "metadata": {},
     "output_type": "execute_result"
    }
   ],
   "source": [
    "neutro"
   ]
  },
  {
   "cell_type": "code",
   "execution_count": 64,
   "metadata": {},
   "outputs": [
    {
     "data": {
      "text/html": [
       "<div>\n",
       "<style scoped>\n",
       "    .dataframe tbody tr th:only-of-type {\n",
       "        vertical-align: middle;\n",
       "    }\n",
       "\n",
       "    .dataframe tbody tr th {\n",
       "        vertical-align: top;\n",
       "    }\n",
       "\n",
       "    .dataframe thead th {\n",
       "        text-align: right;\n",
       "    }\n",
       "</style>\n",
       "<table border=\"1\" class=\"dataframe\">\n",
       "  <thead>\n",
       "    <tr style=\"text-align: right;\">\n",
       "      <th></th>\n",
       "      <th>Treinamento</th>\n",
       "      <th>Relevancia</th>\n",
       "    </tr>\n",
       "  </thead>\n",
       "  <tbody>\n",
       "    <tr>\n",
       "      <th>3</th>\n",
       "      <td>é humanamente impossível comprar uma máquina l...</td>\n",
       "      <td>2</td>\n",
       "    </tr>\n",
       "    <tr>\n",
       "      <th>6</th>\n",
       "      <td>pucrio apple e samsung abrem capacitação em te...</td>\n",
       "      <td>2</td>\n",
       "    </tr>\n",
       "    <tr>\n",
       "      <th>11</th>\n",
       "      <td>nunca falta la promo a samsung lmao</td>\n",
       "      <td>2</td>\n",
       "    </tr>\n",
       "    <tr>\n",
       "      <th>13</th>\n",
       "      <td>samsung segue xiaomi e lança ram virtual em ce...</td>\n",
       "      <td>2</td>\n",
       "    </tr>\n",
       "    <tr>\n",
       "      <th>17</th>\n",
       "      <td>compre online eletrônicos e tecnologia encontr...</td>\n",
       "      <td>2</td>\n",
       "    </tr>\n",
       "    <tr>\n",
       "      <th>...</th>\n",
       "      <td>...</td>\n",
       "      <td>...</td>\n",
       "    </tr>\n",
       "    <tr>\n",
       "      <th>669</th>\n",
       "      <td>adicionar relogio na tela inicial do celular s...</td>\n",
       "      <td>2</td>\n",
       "    </tr>\n",
       "    <tr>\n",
       "      <th>678</th>\n",
       "      <td>submarino preção😱‼fone de ouvido samsung galax...</td>\n",
       "      <td>2</td>\n",
       "    </tr>\n",
       "    <tr>\n",
       "      <th>686</th>\n",
       "      <td>menino tu me deu uma ideia agora vo baixar no...</td>\n",
       "      <td>2</td>\n",
       "    </tr>\n",
       "    <tr>\n",
       "      <th>688</th>\n",
       "      <td>nossa linha j da samsung é um terror kkkkkobr...</td>\n",
       "      <td>2</td>\n",
       "    </tr>\n",
       "    <tr>\n",
       "      <th>692</th>\n",
       "      <td>depois da última atualização do software da sa...</td>\n",
       "      <td>2</td>\n",
       "    </tr>\n",
       "  </tbody>\n",
       "</table>\n",
       "<p>144 rows × 2 columns</p>\n",
       "</div>"
      ],
      "text/plain": [
       "                                           Treinamento  Relevancia\n",
       "3    é humanamente impossível comprar uma máquina l...           2\n",
       "6    pucrio apple e samsung abrem capacitação em te...           2\n",
       "11                 nunca falta la promo a samsung lmao           2\n",
       "13   samsung segue xiaomi e lança ram virtual em ce...           2\n",
       "17   compre online eletrônicos e tecnologia encontr...           2\n",
       "..                                                 ...         ...\n",
       "669  adicionar relogio na tela inicial do celular s...           2\n",
       "678  submarino preção😱‼fone de ouvido samsung galax...           2\n",
       "686   menino tu me deu uma ideia agora vo baixar no...           2\n",
       "688   nossa linha j da samsung é um terror kkkkkobr...           2\n",
       "692  depois da última atualização do software da sa...           2\n",
       "\n",
       "[144 rows x 2 columns]"
      ]
     },
     "execution_count": 64,
     "metadata": {},
     "output_type": "execute_result"
    }
   ],
   "source": [
    "relevante"
   ]
  },
  {
   "cell_type": "code",
   "execution_count": 65,
   "metadata": {},
   "outputs": [
    {
     "data": {
      "text/html": [
       "<div>\n",
       "<style scoped>\n",
       "    .dataframe tbody tr th:only-of-type {\n",
       "        vertical-align: middle;\n",
       "    }\n",
       "\n",
       "    .dataframe tbody tr th {\n",
       "        vertical-align: top;\n",
       "    }\n",
       "\n",
       "    .dataframe thead th {\n",
       "        text-align: right;\n",
       "    }\n",
       "</style>\n",
       "<table border=\"1\" class=\"dataframe\">\n",
       "  <thead>\n",
       "    <tr style=\"text-align: right;\">\n",
       "      <th></th>\n",
       "      <th>Treinamento</th>\n",
       "      <th>Relevancia</th>\n",
       "    </tr>\n",
       "  </thead>\n",
       "  <tbody>\n",
       "    <tr>\n",
       "      <th>2</th>\n",
       "      <td>um samsung e um xiaomi de 500 conto não val...</td>\n",
       "      <td>3</td>\n",
       "    </tr>\n",
       "    <tr>\n",
       "      <th>9</th>\n",
       "      <td>quero eu um samsung desse pow</td>\n",
       "      <td>3</td>\n",
       "    </tr>\n",
       "    <tr>\n",
       "      <th>22</th>\n",
       "      <td>essa cam da samsung um lixo dois pixels tá ótimo</td>\n",
       "      <td>3</td>\n",
       "    </tr>\n",
       "    <tr>\n",
       "      <th>33</th>\n",
       "      <td>samsung é um péssimo atendimento só indo pra j...</td>\n",
       "      <td>3</td>\n",
       "    </tr>\n",
       "    <tr>\n",
       "      <th>34</th>\n",
       "      <td>eu sinceramente quando joguei no seu cll ac...</td>\n",
       "      <td>3</td>\n",
       "    </tr>\n",
       "    <tr>\n",
       "      <th>...</th>\n",
       "      <td>...</td>\n",
       "      <td>...</td>\n",
       "    </tr>\n",
       "    <tr>\n",
       "      <th>655</th>\n",
       "      <td>samsung até no espaço meus amigos</td>\n",
       "      <td>3</td>\n",
       "    </tr>\n",
       "    <tr>\n",
       "      <th>660</th>\n",
       "      <td>alguém tá tendo dificuldade em reproduzir con...</td>\n",
       "      <td>3</td>\n",
       "    </tr>\n",
       "    <tr>\n",
       "      <th>661</th>\n",
       "      <td>magalu está faltando opções de smartwatchs no...</td>\n",
       "      <td>3</td>\n",
       "    </tr>\n",
       "    <tr>\n",
       "      <th>676</th>\n",
       "      <td>smartphone samsung galaxy s20 fe 128gb cloud n...</td>\n",
       "      <td>3</td>\n",
       "    </tr>\n",
       "    <tr>\n",
       "      <th>694</th>\n",
       "      <td>atenção seguidores não comprem de forma alguma...</td>\n",
       "      <td>3</td>\n",
       "    </tr>\n",
       "  </tbody>\n",
       "</table>\n",
       "<p>107 rows × 2 columns</p>\n",
       "</div>"
      ],
      "text/plain": [
       "                                           Treinamento  Relevancia\n",
       "2       um samsung e um xiaomi de 500 conto não val...           3\n",
       "9                        quero eu um samsung desse pow           3\n",
       "22    essa cam da samsung um lixo dois pixels tá ótimo           3\n",
       "33   samsung é um péssimo atendimento só indo pra j...           3\n",
       "34      eu sinceramente quando joguei no seu cll ac...           3\n",
       "..                                                 ...         ...\n",
       "655                  samsung até no espaço meus amigos           3\n",
       "660   alguém tá tendo dificuldade em reproduzir con...           3\n",
       "661   magalu está faltando opções de smartwatchs no...           3\n",
       "676  smartphone samsung galaxy s20 fe 128gb cloud n...           3\n",
       "694  atenção seguidores não comprem de forma alguma...           3\n",
       "\n",
       "[107 rows x 2 columns]"
      ]
     },
     "execution_count": 65,
     "metadata": {},
     "output_type": "execute_result"
    }
   ],
   "source": [
    "muito_relevante"
   ]
  },
  {
   "cell_type": "code",
   "execution_count": 86,
   "metadata": {},
   "outputs": [
    {
     "data": {
      "text/plain": [
       "samsung      230\n",
       "a            131\n",
       "o            122\n",
       "da           120\n",
       "de           120\n",
       "            ... \n",
       "pobreeeee      1\n",
       "qro            1\n",
       "vídeos         1\n",
       "somente        1\n",
       "bateu          1\n",
       "Length: 1508, dtype: int64"
      ]
     },
     "execution_count": 86,
     "metadata": {},
     "output_type": "execute_result"
    }
   ],
   "source": [
    "for i,tweet in enumerate(irrelevante.Treinamento):\n",
    "    tweet = tweet.split()\n",
    "    if i == 0:\n",
    "        lista_irrelevante = tweet\n",
    "    else:\n",
    "        lista_irrelevante += tweet\n",
    "    \n",
    "Irrelevante = pd.Series(lista_irrelevante)\n",
    "Irrelevante.value_counts()"
   ]
  },
  {
   "cell_type": "code",
   "execution_count": 87,
   "metadata": {},
   "outputs": [
    {
     "data": {
      "text/plain": [
       "samsung     177\n",
       "a            91\n",
       "o            81\n",
       "de           78\n",
       "e            75\n",
       "           ... \n",
       "infernal      1\n",
       "opino         1\n",
       "yoon          1\n",
       "mó            1\n",
       "sdds          1\n",
       "Length: 1232, dtype: int64"
      ]
     },
     "execution_count": 87,
     "metadata": {},
     "output_type": "execute_result"
    }
   ],
   "source": [
    "for i,tweet in enumerate(neutro.Treinamento):\n",
    "    tweet = tweet.split()\n",
    "    if i == 0:\n",
    "        lista_neutro = tweet\n",
    "    else:\n",
    "        lista_neutro += tweet\n",
    "    \n",
    "Neutro = pd.Series(lista_neutro)\n",
    "Neutro.value_counts()"
   ]
  },
  {
   "cell_type": "code",
   "execution_count": 89,
   "metadata": {},
   "outputs": [
    {
     "data": {
      "text/plain": [
       "samsung               147\n",
       "de                     81\n",
       "que                    79\n",
       "e                      76\n",
       "o                      76\n",
       "                     ... \n",
       "httpstcoh2zsdgqokc      1\n",
       "cria                    1\n",
       "bate                    1\n",
       "bordas                  1\n",
       "roda                    1\n",
       "Length: 1166, dtype: int64"
      ]
     },
     "execution_count": 89,
     "metadata": {},
     "output_type": "execute_result"
    }
   ],
   "source": [
    "for i,tweet in enumerate(relevante.Treinamento):\n",
    "    tweet = tweet.split()\n",
    "    if i == 0:\n",
    "        lista_relevante = tweet\n",
    "    else:\n",
    "        lista_relevante += tweet\n",
    "    \n",
    "Relevante = pd.Series(lista_relevante)\n",
    "Relevante.value_counts()"
   ]
  },
  {
   "cell_type": "code",
   "execution_count": 91,
   "metadata": {},
   "outputs": [
    {
     "data": {
      "text/plain": [
       "samsung     106\n",
       "e            66\n",
       "de           58\n",
       "da           50\n",
       "a            47\n",
       "           ... \n",
       "dynamic       1\n",
       "flip          1\n",
       "😁             1\n",
       "whatsapp      1\n",
       "ps4           1\n",
       "Length: 1061, dtype: int64"
      ]
     },
     "execution_count": 91,
     "metadata": {},
     "output_type": "execute_result"
    }
   ],
   "source": [
    "for i,tweet in enumerate(muito_relevante.Treinamento):\n",
    "    tweet = tweet.split()\n",
    "    if i == 0:\n",
    "        lista_muito_relevante = tweet\n",
    "    else:\n",
    "        lista_muito_relevante += tweet\n",
    "    \n",
    "Muito_Relevante = pd.Series(lista_muito_relevante)\n",
    "Muito_Relevante.value_counts()"
   ]
  },
  {
   "cell_type": "markdown",
   "metadata": {},
   "source": [
    "___\n",
    "### Verificando a performance do Classificador\n",
    "\n",
    "Agora você deve testar o seu classificador com a base de Testes."
   ]
  },
  {
   "cell_type": "code",
   "execution_count": null,
   "metadata": {},
   "outputs": [],
   "source": []
  },
  {
   "cell_type": "code",
   "execution_count": null,
   "metadata": {},
   "outputs": [],
   "source": []
  },
  {
   "cell_type": "code",
   "execution_count": null,
   "metadata": {},
   "outputs": [],
   "source": []
  },
  {
   "cell_type": "markdown",
   "metadata": {},
   "source": [
    "___\n",
    "### Concluindo"
   ]
  },
  {
   "cell_type": "code",
   "execution_count": null,
   "metadata": {},
   "outputs": [],
   "source": []
  },
  {
   "cell_type": "code",
   "execution_count": null,
   "metadata": {},
   "outputs": [],
   "source": []
  },
  {
   "cell_type": "code",
   "execution_count": null,
   "metadata": {},
   "outputs": [],
   "source": []
  },
  {
   "cell_type": "markdown",
   "metadata": {},
   "source": [
    "___\n",
    "### Qualidade do Classificador a partir de novas separações dos tweets entre Treinamento e Teste\n",
    "\n",
    "Caso for fazer esse item do Projeto"
   ]
  },
  {
   "cell_type": "code",
   "execution_count": null,
   "metadata": {},
   "outputs": [],
   "source": []
  },
  {
   "cell_type": "code",
   "execution_count": null,
   "metadata": {},
   "outputs": [],
   "source": []
  },
  {
   "cell_type": "code",
   "execution_count": null,
   "metadata": {},
   "outputs": [],
   "source": []
  },
  {
   "cell_type": "markdown",
   "metadata": {},
   "source": [
    "___\n",
    "## Aperfeiçoamento:\n",
    "\n",
    "Trabalhos que conseguirem pelo menos conceito B vão evoluir em conceito dependendo da quantidade de itens avançados:\n",
    "\n",
    "* IMPLEMENTOU outras limpezas e transformações que não afetem a qualidade da informação contida nos tweets. Ex: stemming, lemmatization, stopwords\n",
    "* CORRIGIU separação de espaços entre palavras e emojis ou entre emojis e emojis\n",
    "* CRIOU categorias intermediárias de relevância baseadas na probabilidade: ex.: muito relevante, relevante, neutro, irrelevante, muito irrelevante. Pelo menos quatro categorias, com adição de mais tweets na base, conforme enunciado. (OBRIGATÓRIO PARA TRIOS, sem contar como item avançado)\n",
    "* EXPLICOU porquê não pode usar o próprio classificador para gerar mais amostras de treinamento\n",
    "* PROPÔS diferentes cenários para Naïve Bayes fora do contexto do projeto\n",
    "* SUGERIU e EXPLICOU melhorias reais com indicações concretas de como implementar (indicar como fazer e indicar material de pesquisa)\n",
    "* FEZ o item 6. Qualidade do Classificador a partir de novas separações dos tweets entre Treinamento e Teste descrito no enunciado do projeto (OBRIGATÓRIO para conceitos A ou A+)"
   ]
  },
  {
   "cell_type": "markdown",
   "metadata": {},
   "source": [
    "___\n",
    "## Referências"
   ]
  },
  {
   "cell_type": "markdown",
   "metadata": {},
   "source": [
    "[Naive Bayes and Text Classification](https://arxiv.org/pdf/1410.5329.pdf)  **Mais completo**\n",
    "\n",
    "[A practical explanation of a Naive Bayes Classifier](https://monkeylearn.com/blog/practical-explanation-naive-bayes-classifier/) **Mais simples**"
   ]
  },
  {
   "cell_type": "code",
   "execution_count": null,
   "metadata": {},
   "outputs": [],
   "source": []
  }
 ],
 "metadata": {
  "kernelspec": {
   "display_name": "Python 3",
   "language": "python",
   "name": "python3"
  },
  "language_info": {
   "codemirror_mode": {
    "name": "ipython",
    "version": 3
   },
   "file_extension": ".py",
   "mimetype": "text/x-python",
   "name": "python",
   "nbconvert_exporter": "python",
   "pygments_lexer": "ipython3",
   "version": "3.8.5"
  }
 },
 "nbformat": 4,
 "nbformat_minor": 4
}
